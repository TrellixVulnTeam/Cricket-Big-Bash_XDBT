{
 "cells": [
  {
   "cell_type": "code",
   "execution_count": 1,
   "metadata": {},
   "outputs": [],
   "source": [
    "import numpy as np\n",
    "import pandas as pd\n",
    "import mysql.connector\n",
    "from mysql.connector import Error"
   ]
  },
  {
   "cell_type": "code",
   "execution_count": 2,
   "metadata": {},
   "outputs": [],
   "source": [
    "connection = mysql.connector.connect(\n",
    "    host = \"192.168.50.120\",\n",
    "    port = \"3306\",\n",
    "    user = \"james\",\n",
    "    passwd = \"longbowL63\",\n",
    "    database = \"bbl_cricket\"\n",
    ")\n",
    "\n",
    "cursor = connection.cursor()\n"
   ]
  },
  {
   "cell_type": "code",
   "execution_count": 3,
   "metadata": {},
   "outputs": [],
   "source": [
    "def execute_query(query):\n",
    "    try:\n",
    "        cursor.execute(query)\n",
    "        connection.commit()\n",
    "        print(\"Query successful\")\n",
    "    except Error as err:\n",
    "        print(f\"Error: '{err}'\")"
   ]
  },
  {
   "cell_type": "markdown",
   "metadata": {},
   "source": [
    "# Store List of Games"
   ]
  },
  {
   "cell_type": "code",
   "execution_count": 5,
   "metadata": {},
   "outputs": [],
   "source": [
    "with open(\"bbl_json/README.txt\", \"r\") as file:\n",
    "    strings = file.readlines()\n",
    "    data = strings[24::]\n",
    "    data = [i.split(\" - \") for i in data]\n",
    "    data = [i[0:5] + [i[5][:-1].split(\" vs \")[0]] + [i[5][:-1].split(\" vs \")[1]] for i in data]\n",
    "    data = pd.DataFrame(\n",
    "        {i[0]:i[1::] for i in data}, \n",
    "        index=[\"Club\", \"Game\", \"Gender\", \"Id\", \"Team_1\", \"Team_2\"]\n",
    "        ).transpose()\n",
    "    data = data[[\"Team_1\", \"Team_2\", \"Id\"]]\n",
    "\n",
    "data[\"Date\"] = data.index"
   ]
  },
  {
   "cell_type": "code",
   "execution_count": 6,
   "metadata": {},
   "outputs": [],
   "source": [
    "create_table_query = \"\"\"\n",
    "create table games (\n",
    "    id INT PRIMARY KEY,\n",
    "    date DATE,\n",
    "    team_1 VARCHAR(20),\n",
    "    team_2 VARCHAR(20)\n",
    ")\n",
    "\"\"\"\n",
    "\n",
    "# execute_query(create_table_query)"
   ]
  },
  {
   "cell_type": "code",
   "execution_count": 7,
   "metadata": {},
   "outputs": [],
   "source": [
    "insert_to_table = \"INSERT INTO games VALUES \"\n",
    "\n",
    "count = data.shape[0]\n",
    "\n",
    "for i in range(count): #data.shape[0]):\n",
    "    if i != count - 1:\n",
    "        insert_to_table += \"({}, '{}', '{}', '{}'), \".format(\n",
    "        data.iloc[i][\"Id\"], \n",
    "        data.iloc[i][\"Date\"], \n",
    "        data.iloc[i][\"Team_1\"], \n",
    "        data.iloc[i][\"Team_2\"])\n",
    "    else:\n",
    "        insert_to_table += \"({}, '{}', '{}', '{}');\".format(\n",
    "        data.iloc[i][\"Id\"], \n",
    "        data.iloc[i][\"Date\"], \n",
    "        data.iloc[i][\"Team_1\"], \n",
    "        data.iloc[i][\"Team_2\"])\n",
    "\n",
    "# print(insert_to_table)\n",
    "# execute_query(insert_to_table)"
   ]
  },
  {
   "cell_type": "markdown",
   "metadata": {},
   "source": [
    "# Get data for storage"
   ]
  },
  {
   "cell_type": "code",
   "execution_count": 10,
   "metadata": {},
   "outputs": [],
   "source": [
    "index = data.iloc[0][\"Id\"]"
   ]
  },
  {
   "cell_type": "code",
   "execution_count": 19,
   "metadata": {},
   "outputs": [],
   "source": [
    "filename = \"bbl_json/{}.json\".format(index)"
   ]
  },
  {
   "cell_type": "code",
   "execution_count": 21,
   "metadata": {},
   "outputs": [],
   "source": [
    "file = open(filename)\n",
    "data = file.read()"
   ]
  },
  {
   "cell_type": "code",
   "execution_count": 23,
   "metadata": {},
   "outputs": [
    {
     "ename": "ValueError",
     "evalue": "dictionary update sequence element #0 has length 1; 2 is required",
     "output_type": "error",
     "traceback": [
      "\u001b[0;31m---------------------------------------------------------------------------\u001b[0m",
      "\u001b[0;31mValueError\u001b[0m                                Traceback (most recent call last)",
      "\u001b[0;32m/tmp/ipykernel_56510/4091623171.py\u001b[0m in \u001b[0;36m<module>\u001b[0;34m\u001b[0m\n\u001b[0;32m----> 1\u001b[0;31m \u001b[0mdict\u001b[0m\u001b[0;34m(\u001b[0m\u001b[0mdata\u001b[0m\u001b[0;34m)\u001b[0m\u001b[0;34m\u001b[0m\u001b[0;34m\u001b[0m\u001b[0m\n\u001b[0m",
      "\u001b[0;31mValueError\u001b[0m: dictionary update sequence element #0 has length 1; 2 is required"
     ]
    }
   ],
   "source": [
    "dict(data"
   ]
  },
  {
   "cell_type": "code",
   "execution_count": null,
   "metadata": {},
   "outputs": [],
   "source": []
  }
 ],
 "metadata": {
  "interpreter": {
   "hash": "d24f8e5cbac67713d211702b07035e62a37ad25d7fd06f4aa51fd3fd5d33905a"
  },
  "kernelspec": {
   "display_name": "Python 3.8.10 64-bit ('venv': venv)",
   "language": "python",
   "name": "python3"
  },
  "language_info": {
   "codemirror_mode": {
    "name": "ipython",
    "version": 3
   },
   "file_extension": ".py",
   "mimetype": "text/x-python",
   "name": "python",
   "nbconvert_exporter": "python",
   "pygments_lexer": "ipython3",
   "version": "3.8.10"
  },
  "orig_nbformat": 4
 },
 "nbformat": 4,
 "nbformat_minor": 2
}
