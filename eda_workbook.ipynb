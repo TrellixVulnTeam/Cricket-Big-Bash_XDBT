{
 "cells": [
  {
   "cell_type": "code",
   "execution_count": 1,
   "metadata": {},
   "outputs": [],
   "source": [
    "import numpy as np\n",
    "import pandas as pd\n",
    "import matplotlib.pyplot as plt\n",
    "import seaborn as sns"
   ]
  },
  {
   "cell_type": "code",
   "execution_count": 6,
   "metadata": {},
   "outputs": [],
   "source": [
    "data = pd.read_csv(\"match_data.csv\")\n",
    "data.index = data[\"Unnamed: 0\"]\n",
    "data = data.drop(\"Unnamed: 0\", axis = 1)"
   ]
  },
  {
   "cell_type": "code",
   "execution_count": 9,
   "metadata": {},
   "outputs": [
    {
     "name": "stdout",
     "output_type": "stream",
     "text": [
      "balls_per_over, city, dates_0, event_name, event_match_number, gender, match_type, officials_match_referees_0, officials_reserve_umpires_0, officials_tv_umpires_0, officials_umpires_0, officials_umpires_1, outcome_winner, outcome_by_runs, overs, player_of_match_0, season, team_type, teams_0, teams_1, toss_decision, toss_winner, venue, game_id, players_team0_player_0, registry_team0_player_0, players_team0_player_1, registry_team0_player_1, players_team0_player_2, registry_team0_player_2, players_team0_player_3, registry_team0_player_3, players_team0_player_4, registry_team0_player_4, players_team0_player_5, registry_team0_player_5, players_team0_player_6, registry_team0_player_6, players_team0_player_7, registry_team0_player_7, players_team0_player_8, registry_team0_player_8, players_team0_player_9, registry_team0_player_9, players_team0_player_10, registry_team0_player_10, players_team1_player_0, registry_team1_player_0, players_team1_player_1, registry_team1_player_1, players_team1_player_2, registry_team1_player_2, players_team1_player_3, registry_team1_player_3, players_team1_player_4, registry_team1_player_4, players_team1_player_5, registry_team1_player_5, players_team1_player_6, registry_team1_player_6, players_team1_player_7, registry_team1_player_7, players_team1_player_8, registry_team1_player_8, players_team1_player_9, registry_team1_player_9, players_team1_player_10, registry_team1_player_10, outcome_by_wickets, supersubs_team_1, extra_players_team_1, supersubs_team_0, extra_players_team_0, event_stage, outcome_method, outcome_result, outcome_eliminator, "
     ]
    }
   ],
   "source": [
    "[print(i, end = \", \") for i in data.columns];"
   ]
  },
  {
   "cell_type": "code",
   "execution_count": 12,
   "metadata": {},
   "outputs": [],
   "source": [
    "player_cols = [i for i in data.columns if \"players_\" in i]\n",
    "registry_cols = [i for i in data.columns if \"registry_\" in i]\n",
    "match_cols = [i for i in data.columns if i not in player_cols and i not in registry_cols]"
   ]
  },
  {
   "cell_type": "code",
   "execution_count": 13,
   "metadata": {},
   "outputs": [],
   "source": [
    "player_data = data[player_cols]\n",
    "match_data = data[match_cols]"
   ]
  },
  {
   "cell_type": "code",
   "execution_count": 19,
   "metadata": {},
   "outputs": [
    {
     "data": {
      "text/plain": [
       "balls_per_over                             6.0\n",
       "city                                   Carrara\n",
       "dates_0                             2022-01-04\n",
       "event_name                     Big Bash League\n",
       "event_match_number                        38.0\n",
       "gender                                    male\n",
       "match_type                                 T20\n",
       "officials_match_referees_0      Kepler Wessels\n",
       "officials_reserve_umpires_0     Steven Farrell\n",
       "officials_tv_umpires_0                D Taylor\n",
       "officials_umpires_0                   GA Abood\n",
       "officials_umpires_1                Troy Penman\n",
       "outcome_winner                 Perth Scorchers\n",
       "outcome_by_runs                           10.0\n",
       "overs                                     20.0\n",
       "player_of_match_0                    AM Hardie\n",
       "season                                 2021/22\n",
       "team_type                                 club\n",
       "teams_0                        Perth Scorchers\n",
       "teams_1                          Sydney Sixers\n",
       "toss_decision                              bat\n",
       "toss_winner                    Perth Scorchers\n",
       "venue                             Carrara Oval\n",
       "game_id                                1269675\n",
       "outcome_by_wickets                         NaN\n",
       "supersubs_team_1                           NaN\n",
       "supersubs_team_0                           NaN\n",
       "event_stage                                NaN\n",
       "outcome_method                             NaN\n",
       "outcome_result                             NaN\n",
       "outcome_eliminator                         NaN\n",
       "Name: 1269675, dtype: object"
      ]
     },
     "execution_count": 19,
     "metadata": {},
     "output_type": "execute_result"
    }
   ],
   "source": [
    "match_data.iloc[0]"
   ]
  },
  {
   "cell_type": "code",
   "execution_count": null,
   "metadata": {},
   "outputs": [],
   "source": []
  }
 ],
 "metadata": {
  "interpreter": {
   "hash": "560930aadbb2a05355c848e57c1488ed197156e4cf8b839a524bb4ae2526df74"
  },
  "kernelspec": {
   "display_name": "Python 3.8.10 64-bit ('venv': venv)",
   "language": "python",
   "name": "python3"
  },
  "language_info": {
   "codemirror_mode": {
    "name": "ipython",
    "version": 3
   },
   "file_extension": ".py",
   "mimetype": "text/x-python",
   "name": "python",
   "nbconvert_exporter": "python",
   "pygments_lexer": "ipython3",
   "version": "3.8.10"
  },
  "orig_nbformat": 4
 },
 "nbformat": 4,
 "nbformat_minor": 2
}
