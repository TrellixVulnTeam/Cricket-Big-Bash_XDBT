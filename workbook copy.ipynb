{
 "cells": [
  {
   "cell_type": "code",
   "execution_count": 1,
   "metadata": {},
   "outputs": [],
   "source": [
    "import numpy as np\n",
    "import pandas as pd\n",
    "import mysql.connector\n",
    "from mysql.connector import Error\n",
    "import yaml"
   ]
  },
  {
   "cell_type": "code",
   "execution_count": 2,
   "metadata": {},
   "outputs": [],
   "source": [
    "connection = mysql.connector.connect(\n",
    "    host = \"192.168.50.120\",\n",
    "    port = \"3306\",\n",
    "    user = \"james\",\n",
    "    passwd = \"longbowL63\",\n",
    "    database = \"bbl_cricket\"\n",
    ")\n",
    "\n",
    "cursor = connection.cursor()"
   ]
  },
  {
   "cell_type": "code",
   "execution_count": 3,
   "metadata": {},
   "outputs": [],
   "source": [
    "def execute_query(query):\n",
    "    # print(query)\n",
    "    try:\n",
    "        cursor.execute(query)\n",
    "        connection.commit()\n",
    "        print(\"Query successful\")\n",
    "    except Error as err:\n",
    "        print(f\"Error: '{err}'\")"
   ]
  },
  {
   "cell_type": "code",
   "execution_count": 4,
   "metadata": {},
   "outputs": [],
   "source": [
    "def read_query(query):\n",
    "    result = None\n",
    "    try:\n",
    "        cursor.execute(query)\n",
    "        result = cursor.fetchall()\n",
    "        return result\n",
    "    except Error as err:\n",
    "        print(f\"Error: '{err}'\")"
   ]
  },
  {
   "cell_type": "markdown",
   "metadata": {},
   "source": [
    "# Store List of Games"
   ]
  },
  {
   "cell_type": "code",
   "execution_count": 5,
   "metadata": {},
   "outputs": [],
   "source": [
    "with open(\"bbl_json/README.txt\", \"r\") as file:\n",
    "    strings = file.readlines()\n",
    "    data = strings[24::]\n",
    "    data = [i.split(\" - \") for i in data]\n",
    "    data = [i[0:5] + [i[5][:-1].split(\" vs \")[0]] + [i[5][:-1].split(\" vs \")[1]] for i in data]\n",
    "    data = pd.DataFrame(\n",
    "        {i[0]:i[1::] for i in data}, \n",
    "        index=[\"Club\", \"Game\", \"Gender\", \"Id\", \"Team_1\", \"Team_2\"]\n",
    "        ).transpose()\n",
    "    data = data[[\"Team_1\", \"Team_2\", \"Id\"]]\n",
    "\n",
    "data[\"Date\"] = data.index"
   ]
  },
  {
   "cell_type": "code",
   "execution_count": 6,
   "metadata": {},
   "outputs": [
    {
     "name": "stdout",
     "output_type": "stream",
     "text": [
      "Error: '1050 (42S01): Table 'games' already exists'\n"
     ]
    }
   ],
   "source": [
    "create_table_query = \"\"\"\n",
    "create table games (\n",
    "    id INT PRIMARY KEY,\n",
    "    date DATE,\n",
    "    team_1 VARCHAR(20),\n",
    "    team_2 VARCHAR(20)\n",
    ");\n",
    "\"\"\"\n",
    "execute_query(create_table_query)"
   ]
  },
  {
   "cell_type": "code",
   "execution_count": 7,
   "metadata": {},
   "outputs": [
    {
     "name": "stdout",
     "output_type": "stream",
     "text": [
      "Error: '1062 (23000): Duplicate entry '1269675' for key 'PRIMARY''\n"
     ]
    }
   ],
   "source": [
    "insert_to_table = \"INSERT INTO games VALUES \"\n",
    "\n",
    "count = data.shape[0]\n",
    "\n",
    "for i in range(count): #data.shape[0]):\n",
    "    insert_to_table += \"({}, '{}', '{}', '{}'), \".format(\n",
    "    data.iloc[i][\"Id\"], \n",
    "    data.iloc[i][\"Date\"], \n",
    "    data.iloc[i][\"Team_1\"], \n",
    "    data.iloc[i][\"Team_2\"])\n",
    "\n",
    "insert_to_table = insert_to_table[:-2] + \";\"\n",
    "# print(insert_to_table)\n",
    "execute_query(insert_to_table)"
   ]
  },
  {
   "cell_type": "markdown",
   "metadata": {},
   "source": [
    "# Store match data"
   ]
  },
  {
   "cell_type": "code",
   "execution_count": 8,
   "metadata": {},
   "outputs": [],
   "source": [
    "def store_game_info(info):\n",
    "    to_store = pd.DataFrame()\n",
    "    to_store.loc[index, \"ID\"] = index\n",
    "    to_store.loc[index, \"Date\"] = info[\"dates\"][0]\n",
    "    to_store.loc[index, \"season\"] = info[\"season\"]\n",
    "    to_store.loc[index, \"ballsPerOver\"] = info[\"balls_per_over\"]\n",
    "    to_store.loc[index, \"overs\"] = info[\"overs\"]\n",
    "    to_store.loc[index, \"venue\"] = info[\"venue\"]\n",
    "    to_store.loc[index, \"matchNumber\"] = info[\"event\"][\"match_number\"]\n",
    "    to_store.loc[index, \"matchType\"] = info[\"match_type\"]\n",
    "    to_store.loc[index, \"team_1\"] = info[\"teams\"][0]\n",
    "    to_store.loc[index, \"team_2\"] = info[\"teams\"][1]\n",
    "    to_store.loc[index, \"winner\"] = info[\"outcome\"][\"winner\"]\n",
    "    to_store.loc[index, \"win_by\"] = info[\"outcome\"][\"by\"][\"runs\"]\n",
    "    for i in range(len(info[\"player_of_match\"])):\n",
    "        to_store.loc[index, \"playerOfMatch_{}\".format(i)] = info[\"player_of_match\"][i]\n",
    "    to_store.loc[index, \"tossWinner\"] = info[\"toss\"][\"winner\"]\n",
    "    to_store.loc[index, \"tossDecision\"] = info[\"toss\"][\"decision\"]\n",
    "    for i in range(len(info[\"officials\"][\"match_referees\"])):\n",
    "        to_store.loc[index, \"referee_{}\".format(i)] = info[\"officials\"][\"match_referees\"][i]\n",
    "    for i in range(len(info[\"officials\"][\"umpires\"])):\n",
    "        to_store.loc[index, \"umpire_{}\".format(i)] = info[\"officials\"][\"umpires\"][i]\n",
    "\n",
    "    # def dataframe_to_sql(dataframe):\n",
    "    sql_dtype = {\"object\":\"VARCHAR(20)\", \"float64\":\"INT\"}\n",
    "    primary_key = \"ID\"\n",
    "    command = \"create table if not exists matchData (\"\n",
    "    for i in to_store.columns:\n",
    "        if i == primary_key:\n",
    "            command += \"{} {} PRIMARY KEY, \".format(i, sql_dtype[\"{}\".format(to_store[i].dtype)])\n",
    "        else:\n",
    "                command += \"{} {}, \".format(i, sql_dtype[\"{}\".format(to_store[i].dtype)]) \n",
    "    command = command[:-2] + \");\"\n",
    "    execute_query(command)"
   ]
  },
  {
   "cell_type": "code",
   "execution_count": 9,
   "metadata": {},
   "outputs": [],
   "source": [
    "def to_sql(dataframe, tablename):\n",
    "    command = \"INSERT INTO {} VALUES \".format(tablename)\n",
    "    for i in range(dataframe.shape[0]):\n",
    "        command += \"{}, \".format(tuple(dataframe.iloc[i].values))\n",
    "\n",
    "    command = command.replace('nan', \"NULL\")\n",
    "    command = command.replace('None', \"NULL\")\n",
    "    return command[:-2] + \";\"\n",
    "\n",
    "def store_match_data():\n",
    "    play_by_play = pd.DataFrame()\n",
    "    teams = [i[\"team\"] for i in data[\"innings\"]]\n",
    "\n",
    "    count = 0\n",
    "    inning_num = 0\n",
    "    for inning in data[\"innings\"]:\n",
    "        inning_num += 1\n",
    "        for over in inning[\"overs\"]:\n",
    "            ball_count = 0\n",
    "            for delivery in over['deliveries']:\n",
    "                ball_count+= 1\n",
    "                play_by_play.loc[count, \"ball\"] = ball_count\n",
    "                play_by_play.loc[count, \"ID\"] = index\n",
    "                play_by_play.loc[count, \"inning\"] = inning_num\n",
    "                play_by_play.loc[count, \"batting_team\"] = inning[\"team\"]\n",
    "                play_by_play.loc[count, \"bowling_team\"] = teams[1] if inning[\"team\"] == teams[0] else teams[0]\n",
    "                play_by_play.loc[count, \"over_num\"] = over['over']\n",
    "                play_by_play.loc[count, \"batsman\"] = delivery['batter']\n",
    "                play_by_play.loc[count, \"bowler\"] = delivery['bowler']\n",
    "                play_by_play.loc[count, \"non_striker\"] = delivery['non_striker']\n",
    "                play_by_play.loc[count, \"batsman_runs\"] = delivery['runs']['batter']\n",
    "                play_by_play.loc[count, \"extra_runs\"] = delivery['runs']['extras']\n",
    "                play_by_play.loc[count, \"total_runs\"] = delivery['runs']['total']\n",
    "                play_by_play.loc[count, \"extras_type\"] = list(delivery['extras'])[0] if 'extras' in delivery.keys() else None\n",
    "                play_by_play.loc[count, \"is_wicket\"] = 1 if \"wickets\" in delivery.keys() else 0\n",
    "                if 'wickets' in delivery.keys():\n",
    "                    play_by_play.loc[count, \"dismissal_kind\"] = delivery['wickets'][0]['kind']\n",
    "                    play_by_play.loc[count, \"player_dismissed\"] = delivery['wickets'][0]['player_out']\n",
    "                    if 'fielders' in delivery['wickets'][0].keys():\n",
    "                        play_by_play.loc[count, \"fielder\"] = delivery['wickets'][0]['fielders'][0][\"name\"]\n",
    "                count += 1\n",
    "    play_by_play[\"ID\"] = play_by_play[\"ID\"].astype(np.int64)\n",
    "    play_by_play[\"PlayID\"] =play_by_play.index\n",
    "    # def dataframe_to_sql(dataframe):\n",
    "    sql_dtype = {\"object\":\"VARCHAR(20)\", \"float64\":\"INT\", \"int64\":\"INT\"}\n",
    "\n",
    "    primary_key = \"PlayID\"\n",
    "    foreign_key = \"ID\"\n",
    "    reference = \"games(id)\"\n",
    "    command = \"create table if not exists matchData(\"\n",
    "    for i in play_by_play.columns:\n",
    "        # print(i, play_by_play[i].dtype)\n",
    "        if i == primary_key:\n",
    "            command += \"{} {} PRIMARY KEY, \".format(i, sql_dtype[\"{}\".format(play_by_play[i].dtype)])\n",
    "        else:\n",
    "            command += \"{} {}, \".format(i, sql_dtype[\"{}\".format(play_by_play[i].dtype)])\n",
    "    command += \"constraint fk_id_new foreign key({}) references {}\".format(foreign_key, reference)  \n",
    "    command = command + \");\"\n",
    "    execute_query(command)\n",
    "\n",
    "    execute_query(to_sql(play_by_play, \"matchData\"))\n",
    "        "
   ]
  },
  {
   "cell_type": "code",
   "execution_count": 12,
   "metadata": {},
   "outputs": [],
   "source": [
    "for i in range(data.shape[0]):\n",
    "    index = data.iloc[0][\"Id\"]\n",
    "    with open(\"bbl_json/{}.json\".format(index), \"r\") as file:\n",
    "        match_data = yaml.safe_load(file)\n",
    "        file.close()\n",
    "    info = data['info']\n",
    "    store_game_info(info)\n",
    "    "
   ]
  },
  {
   "cell_type": "code",
   "execution_count": 14,
   "metadata": {},
   "outputs": [],
   "source": [
    "index = data.iloc[0][\"Id\"]"
   ]
  },
  {
   "cell_type": "code",
   "execution_count": 15,
   "metadata": {},
   "outputs": [],
   "source": [
    "with open(\"bbl_json/{}.json\".format(index), \"r\") as file:\n",
    "    data = yaml.safe_load(file)\n",
    "    file.close()\n"
   ]
  },
  {
   "cell_type": "code",
   "execution_count": 16,
   "metadata": {},
   "outputs": [],
   "source": [
    "info = data['info']\n",
    "to_store = pd.DataFrame()"
   ]
  },
  {
   "cell_type": "code",
   "execution_count": 17,
   "metadata": {},
   "outputs": [],
   "source": [
    "to_store.loc[index, \"ID\"] = index\n",
    "to_store.loc[index, \"Date\"] = info[\"dates\"][0]\n",
    "to_store.loc[index, \"season\"] = info[\"season\"]\n",
    "to_store.loc[index, \"ballsPerOver\"] = info[\"balls_per_over\"]\n",
    "to_store.loc[index, \"overs\"] = info[\"overs\"]\n",
    "to_store.loc[index, \"venue\"] = info[\"venue\"]\n",
    "to_store.loc[index, \"matchNumber\"] = info[\"event\"][\"match_number\"]\n",
    "to_store.loc[index, \"matchType\"] = info[\"match_type\"]\n",
    "to_store.loc[index, \"team_1\"] = info[\"teams\"][0]\n",
    "to_store.loc[index, \"team_2\"] = info[\"teams\"][1]\n",
    "to_store.loc[index, \"winner\"] = info[\"outcome\"][\"winner\"]\n",
    "to_store.loc[index, \"win_by\"] = info[\"outcome\"][\"by\"][\"runs\"]\n",
    "for i in range(len(info[\"player_of_match\"])):\n",
    "    to_store.loc[index, \"playerOfMatch_{}\".format(i)] = info[\"player_of_match\"][i]\n",
    "to_store.loc[index, \"tossWinner\"] = info[\"toss\"][\"winner\"]\n",
    "to_store.loc[index, \"tossDecision\"] = info[\"toss\"][\"decision\"]\n",
    "for i in range(len(info[\"officials\"][\"match_referees\"])):\n",
    "    to_store.loc[index, \"referee_{}\".format(i)] = info[\"officials\"][\"match_referees\"][i]\n",
    "for i in range(len(info[\"officials\"][\"umpires\"])):\n",
    "    to_store.loc[index, \"umpire_{}\".format(i)] = info[\"officials\"][\"umpires\"][i]"
   ]
  },
  {
   "cell_type": "code",
   "execution_count": 18,
   "metadata": {},
   "outputs": [
    {
     "name": "stdout",
     "output_type": "stream",
     "text": [
      "Error: '1050 (42S01): Table 'matchData' already exists'\n"
     ]
    }
   ],
   "source": [
    "# def dataframe_to_sql(dataframe):\n",
    "sql_dtype = {\"object\":\"VARCHAR(20)\", \"float64\":\"INT\"}\n",
    "\n",
    "primary_key = \"ID\"\n",
    "\n",
    "command = \"create table matchData (\"\n",
    "for i in to_store.columns:\n",
    "    if i == primary_key:\n",
    "        command += \"{} {} PRIMARY KEY, \".format(i, sql_dtype[\"{}\".format(to_store[i].dtype)])\n",
    "    else:\n",
    "            command += \"{} {}, \".format(i, sql_dtype[\"{}\".format(to_store[i].dtype)])\n",
    "            \n",
    "command = command[:-2] + \");\"\n",
    "\n",
    "execute_query(command)"
   ]
  },
  {
   "cell_type": "markdown",
   "metadata": {},
   "source": [
    "# Store play by plays"
   ]
  },
  {
   "cell_type": "code",
   "execution_count": 19,
   "metadata": {},
   "outputs": [],
   "source": [
    "columns = [\n",
    "    \"PlayID\",\n",
    "    \"ID\",\n",
    "    \"inning\",\n",
    "    \"over\",\n",
    "    \"ball\",\n",
    "    \"batsman\",\n",
    "    \"non-striker\",\n",
    "    \"bowler\",\n",
    "    \"batsman_runs\",\n",
    "    \"extra_runs\",\n",
    "    \"total_runs\",\n",
    "    \"is_wicket\",\n",
    "    \"dismissal_kind\",\n",
    "    \"player_dismissed\",\n",
    "    \"fielder\",\n",
    "    \"extras_type\",\n",
    "    \"batting_team\",\n",
    "    \"bowling_team\"\n",
    "]\n",
    "\n",
    "play_by_play = pd.DataFrame()"
   ]
  },
  {
   "cell_type": "code",
   "execution_count": 20,
   "metadata": {},
   "outputs": [],
   "source": [
    "teams = [i[\"team\"] for i in data[\"innings\"]]\n",
    "\n",
    "count = 0\n",
    "inning_num = 0\n",
    "for inning in data[\"innings\"]:\n",
    "    inning_num += 1\n",
    "    for over in inning[\"overs\"]:\n",
    "        ball_count = 0\n",
    "        for delivery in over['deliveries']:\n",
    "            ball_count+= 1\n",
    "            play_by_play.loc[count, \"ball\"] = ball_count\n",
    "            play_by_play.loc[count, \"ID\"] = index\n",
    "            play_by_play.loc[count, \"inning\"] = inning_num\n",
    "            play_by_play.loc[count, \"batting_team\"] = inning[\"team\"]\n",
    "            play_by_play.loc[count, \"bowling_team\"] = teams[1] if inning[\"team\"] == teams[0] else teams[0]\n",
    "            play_by_play.loc[count, \"over_num\"] = over['over']\n",
    "            play_by_play.loc[count, \"batsman\"] = delivery['batter']\n",
    "            play_by_play.loc[count, \"bowler\"] = delivery['bowler']\n",
    "            play_by_play.loc[count, \"non_striker\"] = delivery['non_striker']\n",
    "            play_by_play.loc[count, \"batsman_runs\"] = delivery['runs']['batter']\n",
    "            play_by_play.loc[count, \"extra_runs\"] = delivery['runs']['extras']\n",
    "            play_by_play.loc[count, \"total_runs\"] = delivery['runs']['total']\n",
    "            play_by_play.loc[count, \"extras_type\"] = list(delivery['extras'])[0] if 'extras' in delivery.keys() else None\n",
    "            play_by_play.loc[count, \"is_wicket\"] = 1 if \"wickets\" in delivery.keys() else 0\n",
    "            if 'wickets' in delivery.keys():\n",
    "                play_by_play.loc[count, \"dismissal_kind\"] = delivery['wickets'][0]['kind']\n",
    "                play_by_play.loc[count, \"player_dismissed\"] = delivery['wickets'][0]['player_out']\n",
    "                if 'fielders' in delivery['wickets'][0].keys():\n",
    "                    play_by_play.loc[count, \"fielder\"] = delivery['wickets'][0]['fielders'][0][\"name\"]\n",
    "            count += 1"
   ]
  },
  {
   "cell_type": "code",
   "execution_count": 88,
   "metadata": {},
   "outputs": [],
   "source": [
    "play_by_play[\"ID\"] = play_by_play[\"ID\"].astype(np.int64)"
   ]
  },
  {
   "cell_type": "code",
   "execution_count": 89,
   "metadata": {},
   "outputs": [],
   "source": [
    "play_by_play[\"ID\"] = play_by_play[\"ID\"].astype(np.int64)\n",
    "play_by_play[\"PlayID\"] =play_by_play.index"
   ]
  },
  {
   "cell_type": "code",
   "execution_count": 91,
   "metadata": {},
   "outputs": [
    {
     "data": {
      "text/plain": [
       "Series([], Name: PlayID, dtype: int64)"
      ]
     },
     "execution_count": 91,
     "metadata": {},
     "output_type": "execute_result"
    }
   ],
   "source": [
    "test = play_by_play[\"PlayID\"].value_counts()\n",
    "test[test > 1]"
   ]
  },
  {
   "cell_type": "code",
   "execution_count": 93,
   "metadata": {},
   "outputs": [
    {
     "name": "stdout",
     "output_type": "stream",
     "text": [
      "create table matchData(ball INT, ID INT, inning INT, batting_team VARCHAR(20), bowling_team VARCHAR(20), over_num INT, batsman VARCHAR(20), bowler VARCHAR(20), non_striker VARCHAR(20), batsman_runs INT, extra_runs INT, total_runs INT, extras_type VARCHAR(20), is_wicket INT, dismissal_kind VARCHAR(20), player_dismissed VARCHAR(20), fielder VARCHAR(20), PlayID INT PRIMARY KEY, constraint fk_id_new foreign key(ID) references games(id));\n",
      "\n",
      "\n",
      "Query successful\n",
      "Query successful\n"
     ]
    }
   ],
   "source": [
    "# def dataframe_to_sql(dataframe):\n",
    "sql_dtype = {\"object\":\"VARCHAR(20)\", \"float64\":\"INT\", \"int64\":\"INT\"}\n",
    "\n",
    "primary_key = \"PlayID\"\n",
    "foreign_key = \"ID\"\n",
    "reference = \"games(id)\"\n",
    "\n",
    "command = \"create table matchData(\"\n",
    "for i in play_by_play.columns:\n",
    "    # print(i, play_by_play[i].dtype)\n",
    "    if i == primary_key:\n",
    "        command += \"{} {} PRIMARY KEY, \".format(i, sql_dtype[\"{}\".format(play_by_play[i].dtype)])\n",
    "    else:\n",
    "        command += \"{} {}, \".format(i, sql_dtype[\"{}\".format(play_by_play[i].dtype)])\n",
    "\n",
    "# command += \"{} {}, \".format(\"ID\", sql_dtype[\"{}\".format(play_by_play[\"ID\"].dtype)])\n",
    "\n",
    "command += \"constraint fk_id_new foreign key({}) references {}\".format(foreign_key, reference)\n",
    "            \n",
    "command = command + \");\"\n",
    "print(command)\n",
    "print(\"\\n\")\n",
    "execute_query(\"drop table if exists matchData;\")\n",
    "execute_query(command)"
   ]
  },
  {
   "cell_type": "code",
   "execution_count": 113,
   "metadata": {},
   "outputs": [],
   "source": [
    "def to_sql(dataframe, tablename):\n",
    "    command = \"INSERT INTO {} VALUES \".format(tablename)\n",
    "    for i in range(dataframe.shape[0]):\n",
    "        command += \"{}, \".format(tuple(dataframe.iloc[i].values))\n",
    "\n",
    "    command = command.replace('nan', \"NULL\")\n",
    "    command = command.replace('None', \"NULL\")\n",
    "    return command[:-2] + \";\"\n",
    "        "
   ]
  },
  {
   "cell_type": "code",
   "execution_count": 114,
   "metadata": {},
   "outputs": [],
   "source": [
    "test = to_sql(play_by_play, \"matchData\")"
   ]
  },
  {
   "cell_type": "code",
   "execution_count": 116,
   "metadata": {},
   "outputs": [],
   "source": [
    "test.split('(');"
   ]
  },
  {
   "cell_type": "code",
   "execution_count": 117,
   "metadata": {},
   "outputs": [
    {
     "name": "stdout",
     "output_type": "stream",
     "text": [
      "Query successful\n"
     ]
    }
   ],
   "source": [
    "execute_query(test)"
   ]
  },
  {
   "cell_type": "code",
   "execution_count": null,
   "metadata": {},
   "outputs": [],
   "source": []
  }
 ],
 "metadata": {
  "interpreter": {
   "hash": "d24f8e5cbac67713d211702b07035e62a37ad25d7fd06f4aa51fd3fd5d33905a"
  },
  "kernelspec": {
   "display_name": "Python 3.8.10 64-bit ('venv': venv)",
   "language": "python",
   "name": "python3"
  },
  "language_info": {
   "codemirror_mode": {
    "name": "ipython",
    "version": 3
   },
   "file_extension": ".py",
   "mimetype": "text/x-python",
   "name": "python",
   "nbconvert_exporter": "python",
   "pygments_lexer": "ipython3",
   "version": "3.8.10"
  },
  "orig_nbformat": 4
 },
 "nbformat": 4,
 "nbformat_minor": 2
}
