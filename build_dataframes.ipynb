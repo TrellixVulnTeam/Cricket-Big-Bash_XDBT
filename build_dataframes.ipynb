{
 "cells": [
  {
   "cell_type": "code",
   "execution_count": 56,
   "metadata": {},
   "outputs": [],
   "source": [
    "import numpy as np\n",
    "import pandas as pd\n",
    "import mysql.connector\n",
    "from mysql.connector import Error\n",
    "import yaml"
   ]
  },
  {
   "cell_type": "code",
   "execution_count": 57,
   "metadata": {},
   "outputs": [],
   "source": [
    "def flatten(iterable, key = \"\", result = {}):\n",
    "    \"\"\" Recursive Function which systematicallt Flattens nested lists and/or dictionaries\"\"\"\n",
    "    if type(iterable) == dict:\n",
    "        for i in iterable:\n",
    "            data_type = type(iterable[i])\n",
    "            if data_type in [int, str, float]:\n",
    "                result[key + i] = iterable[i]\n",
    "            elif data_type == list:\n",
    "                flatten(iterable[i], key = key + i + \"_\", result = result)\n",
    "            elif data_type == dict:\n",
    "                flatten(iterable[i], key = key + i + \"_\", result = result)\n",
    "    elif type(iterable) == list:\n",
    "        length = len(iterable)\n",
    "        for i in range(length):\n",
    "            data_type = type(iterable[i])\n",
    "            if data_type in [int, str, float]:\n",
    "                result[key + str(i)] = iterable[i]\n",
    "            elif data_type == list:\n",
    "                flatten(iterable[i], key = key + str(i) + \"_\", result = result)\n",
    "            elif data_type == dict:\n",
    "                flatten(iterable[i], key = key + str(i) + \"_\", result = result)\n",
    "\n",
    "    else:\n",
    "        Error(\"An unidentified type {} has been passed in as an iterable!\".format(type(iterable)))\n",
    "    return result"
   ]
  },
  {
   "cell_type": "code",
   "execution_count": 58,
   "metadata": {},
   "outputs": [],
   "source": [
    "with open(\"bbl_json/README.txt\", \"r\") as file:\n",
    "    strings = file.readlines()\n",
    "    data = strings[24::]\n",
    "    data = [i.split(\" - \") for i in data]\n",
    "    data = [i[0:5] + [i[5][:-1].split(\" vs \")[0]] + [i[5][:-1].split(\" vs \")[1]] for i in data]\n",
    "    data = pd.DataFrame(\n",
    "        {i[0]:i[1::] for i in data}, \n",
    "        index=[\"Club\", \"Game\", \"Gender\", \"Id\", \"Team_1\", \"Team_2\"]\n",
    "        ).transpose()\n",
    "    data = data[[\"Team_1\", \"Team_2\", \"Id\"]]\n",
    "\n",
    "data[\"Date\"] = data.index"
   ]
  },
  {
   "cell_type": "code",
   "execution_count": 59,
   "metadata": {},
   "outputs": [],
   "source": [
    "for i in range(data.shape[0]):\n",
    "    index = data.iloc[i][\"Id\"]\n",
    "    with open(\"bbl_json/{}.json\".format(index), \"r\") as file:\n",
    "        match_data = yaml.safe_load(file)\n",
    "        file.close()\n",
    "    info = match_data['info']\n",
    "    dictionary = flatten(info)\n",
    "    dictionary[\"game_id\"] = index\n",
    "    for team_num in range(2):\n",
    "        for player_num in range(11):\n",
    "            dictionary[\"players_team{}_player_{}\".format(team_num, player_num)] = dictionary[\"players_{}_{}\".format(dictionary[\"team\"], player_num)]\n",
    "    break"
   ]
  },
  {
   "cell_type": "code",
   "execution_count": 60,
   "metadata": {},
   "outputs": [
    {
     "data": {
      "text/plain": [
       "{'balls_per_over': 6,\n",
       " 'city': 'Carrara',\n",
       " 'dates_0': '2022-01-04',\n",
       " 'event_name': 'Big Bash League',\n",
       " 'event_match_number': 38,\n",
       " 'gender': 'male',\n",
       " 'match_type': 'T20',\n",
       " 'officials_match_referees_0': 'Kepler Wessels',\n",
       " 'officials_reserve_umpires_0': 'Steven Farrell',\n",
       " 'officials_tv_umpires_0': 'D Taylor',\n",
       " 'officials_umpires_0': 'GA Abood',\n",
       " 'officials_umpires_1': 'Troy Penman',\n",
       " 'outcome_winner': 'Perth Scorchers',\n",
       " 'outcome_by_runs': 10,\n",
       " 'overs': 20,\n",
       " 'player_of_match_0': 'AM Hardie',\n",
       " 'players_Perth Scorchers_0': 'KR Patterson',\n",
       " 'players_Perth Scorchers_1': 'CT Bancroft',\n",
       " 'players_Perth Scorchers_2': 'C Munro',\n",
       " 'players_Perth Scorchers_3': 'LJ Evans',\n",
       " 'players_Perth Scorchers_4': 'AJ Turner',\n",
       " 'players_Perth Scorchers_5': 'AM Hardie',\n",
       " 'players_Perth Scorchers_6': 'AC Agar',\n",
       " 'players_Perth Scorchers_7': 'AJ Tye',\n",
       " 'players_Perth Scorchers_8': 'P Hatzoglou',\n",
       " 'players_Perth Scorchers_9': 'TS Mills',\n",
       " 'players_Perth Scorchers_10': 'LR Morris',\n",
       " 'players_Sydney Sixers_0': 'JR Philippe',\n",
       " 'players_Sydney Sixers_1': 'JM Vince',\n",
       " 'players_Sydney Sixers_2': 'J Edwards',\n",
       " 'players_Sydney Sixers_3': 'MC Henriques',\n",
       " 'players_Sydney Sixers_4': 'JC Silk',\n",
       " 'players_Sydney Sixers_5': 'DT Christian',\n",
       " 'players_Sydney Sixers_6': 'SA Abbott',\n",
       " 'players_Sydney Sixers_7': 'H Kerr',\n",
       " 'players_Sydney Sixers_8': 'BJ Dwarshuis',\n",
       " 'players_Sydney Sixers_9': 'JM Bird',\n",
       " 'players_Sydney Sixers_10': \"SNJ O'Keefe\",\n",
       " 'registry_people_AC Agar': 'a2421394',\n",
       " 'registry_people_AJ Turner': 'ff1e12a0',\n",
       " 'registry_people_AJ Tye': '7c7d63a2',\n",
       " 'registry_people_AM Hardie': 'd405c0d5',\n",
       " 'registry_people_BJ Dwarshuis': 'e1b9f3a9',\n",
       " 'registry_people_C Munro': 'af2c687b',\n",
       " 'registry_people_CJM Sabburg': '9fc73711',\n",
       " 'registry_people_CT Bancroft': '399b0b94',\n",
       " 'registry_people_D Taylor': 'b940a2b2',\n",
       " 'registry_people_DT Christian': '2a2e6343',\n",
       " 'registry_people_GA Abood': 'a4af5528',\n",
       " 'registry_people_H Kerr': 'f422728b',\n",
       " 'registry_people_J Edwards': 'f787e0eb',\n",
       " 'registry_people_JC Silk': '7a6dc294',\n",
       " 'registry_people_JM Bird': 'bc773eeb',\n",
       " 'registry_people_JM Vince': 'a15618fe',\n",
       " 'registry_people_JR Philippe': '39086549',\n",
       " 'registry_people_KR Patterson': 'e3bf8356',\n",
       " 'registry_people_Kepler Wessels': '3bedaff0',\n",
       " 'registry_people_LJ Evans': '1c513d54',\n",
       " 'registry_people_LR Morris': 'b08e58e2',\n",
       " 'registry_people_MC Henriques': '32198ae0',\n",
       " 'registry_people_P Hatzoglou': '6f95e5fa',\n",
       " 'registry_people_SA Abbott': '1a2676c5',\n",
       " \"registry_people_SNJ O'Keefe\": '3540beff',\n",
       " 'registry_people_Steven Farrell': '512226fb',\n",
       " 'registry_people_TS Mills': '245c97cb',\n",
       " 'registry_people_Troy Penman': '0aa42c26',\n",
       " 'season': '2021/22',\n",
       " 'team_type': 'club',\n",
       " 'teams_0': 'Perth Scorchers',\n",
       " 'teams_1': 'Sydney Sixers',\n",
       " 'toss_decision': 'bat',\n",
       " 'toss_winner': 'Perth Scorchers',\n",
       " 'venue': 'Carrara Oval',\n",
       " 'game_id': '1269675'}"
      ]
     },
     "execution_count": 60,
     "metadata": {},
     "output_type": "execute_result"
    }
   ],
   "source": [
    "dictionary"
   ]
  },
  {
   "cell_type": "code",
   "execution_count": null,
   "metadata": {},
   "outputs": [],
   "source": []
  }
 ],
 "metadata": {
  "interpreter": {
   "hash": "560930aadbb2a05355c848e57c1488ed197156e4cf8b839a524bb4ae2526df74"
  },
  "kernelspec": {
   "display_name": "Python 3.8.10 64-bit ('venv': venv)",
   "language": "python",
   "name": "python3"
  },
  "language_info": {
   "codemirror_mode": {
    "name": "ipython",
    "version": 3
   },
   "file_extension": ".py",
   "mimetype": "text/x-python",
   "name": "python",
   "nbconvert_exporter": "python",
   "pygments_lexer": "ipython3",
   "version": "3.8.10"
  },
  "orig_nbformat": 4
 },
 "nbformat": 4,
 "nbformat_minor": 2
}
