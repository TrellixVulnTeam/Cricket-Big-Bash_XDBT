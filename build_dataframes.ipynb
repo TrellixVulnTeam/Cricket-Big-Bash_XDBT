{
 "cells": [
  {
   "cell_type": "code",
   "execution_count": 1,
   "metadata": {},
   "outputs": [],
   "source": [
    "import numpy as np\n",
    "import pandas as pd\n",
    "import mysql.connector\n",
    "from mysql.connector import Error\n",
    "import yaml"
   ]
  },
  {
   "cell_type": "code",
   "execution_count": 2,
   "metadata": {},
   "outputs": [],
   "source": [
    "def flatten(iterable, key = \"\", result = {}):\n",
    "    \"\"\" Recursive Function which systematicallt Flattens nested lists and/or dictionaries\"\"\"\n",
    "    if type(iterable) == dict:\n",
    "        for i in iterable:\n",
    "            data_type = type(iterable[i])\n",
    "            if data_type in [int, str, float]:\n",
    "                result[key + i] = iterable[i]\n",
    "            elif data_type == list:\n",
    "                flatten(iterable[i], key = key + i + \"_\", result = result)\n",
    "            elif data_type == dict:\n",
    "                flatten(iterable[i], key = key + i + \"_\", result = result)\n",
    "    elif type(iterable) == list:\n",
    "        length = len(iterable)\n",
    "        for i in range(length):\n",
    "            data_type = type(iterable[i])\n",
    "            if data_type in [int, str, float]:\n",
    "                result[key + str(i)] = iterable[i]\n",
    "            elif data_type == list:\n",
    "                flatten(iterable[i], key = key + str(i) + \"_\", result = result)\n",
    "            elif data_type == dict:\n",
    "                flatten(iterable[i], key = key + str(i) + \"_\", result = result)\n",
    "\n",
    "    else:\n",
    "        Error(\"An unidentified type {} has been passed in as an iterable!\".format(type(iterable)))\n",
    "    return result"
   ]
  },
  {
   "cell_type": "code",
   "execution_count": 3,
   "metadata": {},
   "outputs": [],
   "source": [
    "with open(\"bbl_json/README.txt\", \"r\") as file:\n",
    "    strings = file.readlines()\n",
    "    data = strings[24::]\n",
    "    data = [i.split(\" - \") for i in data]\n",
    "    data = [i[0:5] + [i[5][:-1].split(\" vs \")[0]] + [i[5][:-1].split(\" vs \")[1]] for i in data]\n",
    "    data = pd.DataFrame(\n",
    "        {i[0]:i[1::] for i in data}, \n",
    "        index=[\"Club\", \"Game\", \"Gender\", \"Id\", \"Team_1\", \"Team_2\"]\n",
    "        ).transpose()\n",
    "    data = data[[\"Team_1\", \"Team_2\", \"Id\"]]\n",
    "\n",
    "data[\"Date\"] = data.index"
   ]
  },
  {
   "cell_type": "code",
   "execution_count": 4,
   "metadata": {},
   "outputs": [],
   "source": [
    "def add_match_data(data, result, index):\n",
    "    teams = [i['team'] for i in data]\n",
    "    for i in range(len(data)):\n",
    "        if i >= 2:\n",
    "            Error(\"More than 2 innings!!\")\n",
    "        batting_team = teams[i]\n",
    "        bowling_team = teams[i % 1]\n",
    "        inning = i\n",
    "        for over in data[i][\"overs\"]:\n",
    "            over_num = over[\"over\"]\n",
    "            for ball_num in range(len(over['deliveries'])):\n",
    "                ball = over['deliveries'][ball_num]\n",
    "                ball_id = index + str(inning) + str(over_num) + str(ball_num)\n",
    "                dictionary = flatten(ball)\n",
    "\n",
    "                result.loc[ball_id, \"id\"] = ball_id\n",
    "                result.loc[ball_id, \"game_id\"] = index\n",
    "                result.loc[ball_id, \"inning\"] = inning + 1\n",
    "                result.loc[ball_id, \"over\"] = over_num + 1\n",
    "                result.loc[ball_id, \"ball_num\"] = ball_num + 1\n",
    "                result.loc[ball_id, \"batting_team\"] = batting_team\n",
    "                result.loc[ball_id, \"bowling_team\"] = bowling_team\n",
    "                for i in dictionary:\n",
    "                    result.loc[ball_id, i] = dictionary[i]\n",
    "                \n",
    "                # break\n",
    "            # break\n",
    "        # break\n",
    "\n",
    "    return result"
   ]
  },
  {
   "cell_type": "code",
   "execution_count": 17,
   "metadata": {},
   "outputs": [
    {
     "name": "stdout",
     "output_type": "stream",
     "text": [
      "Progress 380/381\r"
     ]
    }
   ],
   "source": [
    "result = pd.DataFrame()\n",
    "for i in range(data.shape[0]):\n",
    "    index = data.iloc[i][\"Id\"]\n",
    "    with open(\"bbl_json/{}.json\".format(index), \"r\") as file:\n",
    "        match_data = yaml.safe_load(file)\n",
    "        file.close()\n",
    "\n",
    "    result = add_match_data( match_data[\"innings\"], result, index)\n",
    "    print(\"Progress {}/{}\".format(i, data.shape[0]), end = '\\r')\n",
    "    \n"
   ]
  },
  {
   "cell_type": "code",
   "execution_count": 19,
   "metadata": {},
   "outputs": [],
   "source": [
    "result.to_csv(\"play_by_play.csv\")"
   ]
  },
  {
   "cell_type": "code",
   "execution_count": null,
   "metadata": {},
   "outputs": [],
   "source": []
  }
 ],
 "metadata": {
  "interpreter": {
   "hash": "560930aadbb2a05355c848e57c1488ed197156e4cf8b839a524bb4ae2526df74"
  },
  "kernelspec": {
   "display_name": "Python 3.8.10 64-bit ('venv': venv)",
   "language": "python",
   "name": "python3"
  },
  "language_info": {
   "codemirror_mode": {
    "name": "ipython",
    "version": 3
   },
   "file_extension": ".py",
   "mimetype": "text/x-python",
   "name": "python",
   "nbconvert_exporter": "python",
   "pygments_lexer": "ipython3",
   "version": "3.8.10"
  },
  "orig_nbformat": 4
 },
 "nbformat": 4,
 "nbformat_minor": 2
}
